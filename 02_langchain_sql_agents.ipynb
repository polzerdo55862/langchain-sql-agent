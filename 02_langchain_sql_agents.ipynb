{
 "cells": [
  {
   "cell_type": "markdown",
   "metadata": {},
   "source": [
    "## Langchain Agents\n",
    "\n",
    "A simple notebook that uses the Langchain agents to query the SQLite database \"sql_lite_database.db\"."
   ]
  },
  {
   "cell_type": "code",
   "execution_count": 8,
   "metadata": {},
   "outputs": [
    {
     "name": "stdout",
     "output_type": "stream",
     "text": [
      "\n",
      "\n",
      "\u001b[1m> Entering new AgentExecutor chain...\u001b[0m\n",
      "\u001b[32;1m\u001b[1;3mAction: sql_db_list_tables\n",
      "Action Input: \u001b[0m\n",
      "Observation: \u001b[38;5;200m\u001b[1;3mAGENTS, CUSTOMER, ORDERS\u001b[0m\n",
      "Thought:\u001b[32;1m\u001b[1;3m I should query the CUSTOMER table to get the number of customers.\n",
      "Action: sql_db_schema\n",
      "Action Input: CUSTOMER\u001b[0m\n",
      "Observation: \u001b[33;1m\u001b[1;3m\n",
      "CREATE TABLE \"CUSTOMER\" (\n",
      "\t\"CUST_CODE\" TEXT(6) NOT NULL, \n",
      "\t\"CUST_NAME\" TEXT(40) NOT NULL, \n",
      "\t\"CUST_CITY\" CHAR(35), \n",
      "\t\"WORKING_AREA\" TEXT(35) NOT NULL, \n",
      "\t\"CUST_COUNTRY\" TEXT(20) NOT NULL, \n",
      "\t\"GRADE\" NUMERIC, \n",
      "\t\"OPENING_AMT\" NUMERIC(12, 2) NOT NULL, \n",
      "\t\"RECEIVE_AMT\" NUMERIC(12, 2) NOT NULL, \n",
      "\t\"PAYMENT_AMT\" NUMERIC(12, 2) NOT NULL, \n",
      "\t\"OUTSTANDING_AMT\" NUMERIC(12, 2) NOT NULL, \n",
      "\t\"PHONE_NO\" TEXT(17) NOT NULL, \n",
      "\t\"AGENT_CODE\" CHAR(6) NOT NULL, \n",
      "\tPRIMARY KEY (\"CUST_CODE\"), \n",
      "\tFOREIGN KEY(\"AGENT_CODE\") REFERENCES \"AGENTS\" (\"AGENT_CODE\")\n",
      ")\n",
      "\n",
      "/*\n",
      "3 rows from CUSTOMER table:\n",
      "CUST_CODE\tCUST_NAME\tCUST_CITY\tWORKING_AREA\tCUST_COUNTRY\tGRADE\tOPENING_AMT\tRECEIVE_AMT\tPAYMENT_AMT\tOUTSTANDING_AMT\tPHONE_NO\tAGENT_CODE\n",
      "C00013\tHolmes\tLondon\tLondon\tUK\t2.0000000000\t6000.00\t5000.00\t7000.00\t4000.00\tBBBBBBB\tA003\n",
      "C00001\tMicheal\tNew York\tNew York\tUSA\t2.0000000000\t3000.00\t5000.00\t2000.00\t6000.00\tCCCCCCC\tA008\n",
      "C00020\tAlbert\tNew York\tNew York\tUSA\t3.0000000000\t5000.00\t7000.00\t6000.00\t6000.00\tBBBBSBB\tA008\n",
      "*/\u001b[0m\n",
      "Thought:\u001b[32;1m\u001b[1;3m I should use the COUNT function to get the number of customers.\n",
      "Action: sql_db_query\n",
      "Action Input: SELECT COUNT(*) FROM CUSTOMER\u001b[0m\n",
      "Observation: \u001b[36;1m\u001b[1;3m[(25,)]\u001b[0m\n",
      "Thought:\u001b[32;1m\u001b[1;3m I now know the final answer\n",
      "Final Answer: 25\u001b[0m\n",
      "\n",
      "\u001b[1m> Finished chain.\u001b[0m\n"
     ]
    },
    {
     "data": {
      "text/plain": [
       "{'input': 'How many customers do we have in our database?', 'output': '25'}"
      ]
     },
     "execution_count": 8,
     "metadata": {},
     "output_type": "execute_result"
    }
   ],
   "source": [
    "from langchain.utilities import SQLDatabase\n",
    "from langchain.llms import OpenAI\n",
    "from langchain.agents.agent_types import AgentType\n",
    "from langchain.agents.agent_toolkits import SQLDatabaseToolkit \n",
    "from langchain.utilities import SQLDatabase\n",
    "from langchain_openai import OpenAI\n",
    "from langchain.agents import create_sql_agent \n",
    "import os\n",
    "\n",
    "# define the database we want to use for our test\n",
    "db = SQLDatabase.from_uri('sqlite:///sql_lite_database.db')\n",
    "\n",
    "# choose llm model, in this case the default OpenAI model\n",
    "llm = OpenAI(\n",
    "            temperature=0, \n",
    "            verbose=True,\n",
    "            openai_api_key=os.getenv(\"OPENAI_API_KEY\"),\n",
    "            )\n",
    "\n",
    "# setup agent\n",
    "toolkit = SQLDatabaseToolkit(db=db, llm=llm)\n",
    "agent_executor = create_sql_agent(\n",
    "    llm=llm,\n",
    "    toolkit=toolkit,\n",
    "    verbose=True,\n",
    "    agent_type=AgentType.ZERO_SHOT_REACT_DESCRIPTION,\n",
    ")\n",
    "\n",
    "# define the user's question\n",
    "question = \"How many customers do we have in our database?\"\n",
    "agent_executor.invoke(question)"
   ]
  },
  {
   "cell_type": "code",
   "execution_count": 9,
   "metadata": {},
   "outputs": [
    {
     "name": "stdout",
     "output_type": "stream",
     "text": [
      "\n",
      "\n",
      "\u001b[1m> Entering new AgentExecutor chain...\u001b[0m\n",
      "\u001b[32;1m\u001b[1;3mAction: sql_db_list_tables\n",
      "Action Input:\n",
      "\u001b[0m\n",
      "Observation: \u001b[38;5;200m\u001b[1;3mAGENTS, CUSTOMER, ORDERS\u001b[0m\n",
      "Thought:\u001b[32;1m\u001b[1;3m I should query the schema of the CUSTOMER table to see what columns I can use.\n",
      "Action: sql_db_schema\n",
      "Action Input: CUSTOMER\u001b[0m\n",
      "Observation: \u001b[33;1m\u001b[1;3m\n",
      "CREATE TABLE \"CUSTOMER\" (\n",
      "\t\"CUST_CODE\" TEXT(6) NOT NULL, \n",
      "\t\"CUST_NAME\" TEXT(40) NOT NULL, \n",
      "\t\"CUST_CITY\" CHAR(35), \n",
      "\t\"WORKING_AREA\" TEXT(35) NOT NULL, \n",
      "\t\"CUST_COUNTRY\" TEXT(20) NOT NULL, \n",
      "\t\"GRADE\" NUMERIC, \n",
      "\t\"OPENING_AMT\" NUMERIC(12, 2) NOT NULL, \n",
      "\t\"RECEIVE_AMT\" NUMERIC(12, 2) NOT NULL, \n",
      "\t\"PAYMENT_AMT\" NUMERIC(12, 2) NOT NULL, \n",
      "\t\"OUTSTANDING_AMT\" NUMERIC(12, 2) NOT NULL, \n",
      "\t\"PHONE_NO\" TEXT(17) NOT NULL, \n",
      "\t\"AGENT_CODE\" CHAR(6) NOT NULL, \n",
      "\tPRIMARY KEY (\"CUST_CODE\"), \n",
      "\tFOREIGN KEY(\"AGENT_CODE\") REFERENCES \"AGENTS\" (\"AGENT_CODE\")\n",
      ")\n",
      "\n",
      "/*\n",
      "3 rows from CUSTOMER table:\n",
      "CUST_CODE\tCUST_NAME\tCUST_CITY\tWORKING_AREA\tCUST_COUNTRY\tGRADE\tOPENING_AMT\tRECEIVE_AMT\tPAYMENT_AMT\tOUTSTANDING_AMT\tPHONE_NO\tAGENT_CODE\n",
      "C00013\tHolmes\tLondon\tLondon\tUK\t2.0000000000\t6000.00\t5000.00\t7000.00\t4000.00\tBBBBBBB\tA003\n",
      "C00001\tMicheal\tNew York\tNew York\tUSA\t2.0000000000\t3000.00\t5000.00\t2000.00\t6000.00\tCCCCCCC\tA008\n",
      "C00020\tAlbert\tNew York\tNew York\tUSA\t3.0000000000\t5000.00\t7000.00\t6000.00\t6000.00\tBBBBSBB\tA008\n",
      "*/\u001b[0m\n",
      "Thought:\u001b[32;1m\u001b[1;3m I should query the CUSTOMER table for all customers from the US and limit the results to 10.\n",
      "Action: sql_db_query\n",
      "Action Input: SELECT CUST_NAME, CUST_CITY, WORKING_AREA, CUST_COUNTRY FROM CUSTOMER WHERE CUST_COUNTRY = 'USA' LIMIT 10\u001b[0m\n",
      "Observation: \u001b[36;1m\u001b[1;3m[('Micheal', 'New York', 'New York', 'USA'), ('Albert', 'New York', 'New York', 'USA'), ('Bolt', 'New York', 'New York', 'USA'), ('Steven', 'San Jose', 'San Jose', 'USA')]\u001b[0m\n",
      "Thought:\u001b[32;1m\u001b[1;3m I now know the final answer\n",
      "Final Answer: [('Micheal', 'New York', 'New York', 'USA'), ('Albert', 'New York', 'New York', 'USA'), ('Bolt', 'New York', 'New York', 'USA'), ('Steven', 'San Jose', 'San Jose', 'USA')]\u001b[0m\n",
      "\n",
      "\u001b[1m> Finished chain.\u001b[0m\n"
     ]
    },
    {
     "data": {
      "text/plain": [
       "{'input': 'List all customers from the US',\n",
       " 'output': \"[('Micheal', 'New York', 'New York', 'USA'), ('Albert', 'New York', 'New York', 'USA'), ('Bolt', 'New York', 'New York', 'USA'), ('Steven', 'San Jose', 'San Jose', 'USA')]\"}"
      ]
     },
     "execution_count": 9,
     "metadata": {},
     "output_type": "execute_result"
    }
   ],
   "source": [
    "# define the user's question\n",
    "question = \"List all customers from the US\"\n",
    "agent_executor.invoke(question)"
   ]
  },
  {
   "cell_type": "code",
   "execution_count": 10,
   "metadata": {},
   "outputs": [
    {
     "name": "stdout",
     "output_type": "stream",
     "text": [
      "\n",
      "\n",
      "\u001b[1m> Entering new AgentExecutor chain...\u001b[0m\n",
      "\u001b[32;1m\u001b[1;3mAction: sql_db_list_tables\n",
      "Action Input: \u001b[0m\n",
      "Observation: \u001b[38;5;200m\u001b[1;3mAGENTS, CUSTOMER, ORDERS\u001b[0m\n",
      "Thought:\u001b[32;1m\u001b[1;3m I should query the CUSTOMER table to get the phone number of the customer Albert.\n",
      "Action: sql_db_schema\n",
      "Action Input: CUSTOMER\u001b[0m\n",
      "Observation: \u001b[33;1m\u001b[1;3m\n",
      "CREATE TABLE \"CUSTOMER\" (\n",
      "\t\"CUST_CODE\" TEXT(6) NOT NULL, \n",
      "\t\"CUST_NAME\" TEXT(40) NOT NULL, \n",
      "\t\"CUST_CITY\" CHAR(35), \n",
      "\t\"WORKING_AREA\" TEXT(35) NOT NULL, \n",
      "\t\"CUST_COUNTRY\" TEXT(20) NOT NULL, \n",
      "\t\"GRADE\" NUMERIC, \n",
      "\t\"OPENING_AMT\" NUMERIC(12, 2) NOT NULL, \n",
      "\t\"RECEIVE_AMT\" NUMERIC(12, 2) NOT NULL, \n",
      "\t\"PAYMENT_AMT\" NUMERIC(12, 2) NOT NULL, \n",
      "\t\"OUTSTANDING_AMT\" NUMERIC(12, 2) NOT NULL, \n",
      "\t\"PHONE_NO\" TEXT(17) NOT NULL, \n",
      "\t\"AGENT_CODE\" CHAR(6) NOT NULL, \n",
      "\tPRIMARY KEY (\"CUST_CODE\"), \n",
      "\tFOREIGN KEY(\"AGENT_CODE\") REFERENCES \"AGENTS\" (\"AGENT_CODE\")\n",
      ")\n",
      "\n",
      "/*\n",
      "3 rows from CUSTOMER table:\n",
      "CUST_CODE\tCUST_NAME\tCUST_CITY\tWORKING_AREA\tCUST_COUNTRY\tGRADE\tOPENING_AMT\tRECEIVE_AMT\tPAYMENT_AMT\tOUTSTANDING_AMT\tPHONE_NO\tAGENT_CODE\n",
      "C00013\tHolmes\tLondon\tLondon\tUK\t2.0000000000\t6000.00\t5000.00\t7000.00\t4000.00\tBBBBBBB\tA003\n",
      "C00001\tMicheal\tNew York\tNew York\tUSA\t2.0000000000\t3000.00\t5000.00\t2000.00\t6000.00\tCCCCCCC\tA008\n",
      "C00020\tAlbert\tNew York\tNew York\tUSA\t3.0000000000\t5000.00\t7000.00\t6000.00\t6000.00\tBBBBSBB\tA008\n",
      "*/\u001b[0m\n",
      "Thought:\u001b[32;1m\u001b[1;3m I should query the CUSTOMER table for the phone number of the customer Albert.\n",
      "Action: sql_db_query\n",
      "Action Input: SELECT PHONE_NO FROM CUSTOMER WHERE CUST_NAME = 'Albert' LIMIT 10\u001b[0m\n",
      "Observation: \u001b[36;1m\u001b[1;3m[('BBBBSBB',)]\u001b[0m\n",
      "Thought:\u001b[32;1m\u001b[1;3m I now know the final answer\n",
      "Final Answer: The phone number of the customer Albert is BBBBSBB.\u001b[0m\n",
      "\n",
      "\u001b[1m> Finished chain.\u001b[0m\n"
     ]
    },
    {
     "data": {
      "text/plain": [
       "{'input': 'What is the phone number of the customer Albert?',\n",
       " 'output': 'The phone number of the customer Albert is BBBBSBB.'}"
      ]
     },
     "execution_count": 10,
     "metadata": {},
     "output_type": "execute_result"
    }
   ],
   "source": [
    "# define the user's question\n",
    "question = \"What is the phone number of the customer Albert?\"\n",
    "agent_executor.invoke(question)"
   ]
  }
 ],
 "metadata": {
  "kernelspec": {
   "display_name": ".venv",
   "language": "python",
   "name": "python3"
  },
  "language_info": {
   "codemirror_mode": {
    "name": "ipython",
    "version": 3
   },
   "file_extension": ".py",
   "mimetype": "text/x-python",
   "name": "python",
   "nbconvert_exporter": "python",
   "pygments_lexer": "ipython3",
   "version": "3.10.7"
  }
 },
 "nbformat": 4,
 "nbformat_minor": 2
}
